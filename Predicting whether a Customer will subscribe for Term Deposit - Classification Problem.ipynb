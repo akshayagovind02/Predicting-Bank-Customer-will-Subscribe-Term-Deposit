{
 "cells": [
  {
   "cell_type": "markdown",
   "metadata": {},
   "source": [
    "Predicting whether a client will subscribe to a Term deposit or Not.Feature selection is done to get the top important features. Different classification models are used to compare performance output and the results are compared"
   ]
  },
  {
   "cell_type": "code",
   "execution_count": 1,
   "metadata": {},
   "outputs": [],
   "source": [
    "#Importing Required Libraries\n",
    "import pandas as pd\n",
    "import numpy as np\n",
    "from sklearn import metrics\n",
    "from sklearn import model_selection\n",
    "from sklearn.ensemble import ExtraTreesClassifier\n",
    "from sklearn.metrics import accuracy_score\n",
    "import matplotlib.pyplot as plt\n",
    "from scipy import stats\n",
    "import numpy as np\n",
    "from sklearn import tree\n",
    "from sklearn import metrics\n",
    "from sklearn.ensemble import RandomForestClassifier\n",
    "from sklearn.neighbors import KNeighborsClassifier\n",
    "from sklearn.naive_bayes import MultinomialNB\n",
    "from sklearn.naive_bayes import GaussianNB\n",
    "from sklearn.model_selection import train_test_split\n",
    "from sklearn.preprocessing import MinMaxScaler"
   ]
  },
  {
   "cell_type": "markdown",
   "metadata": {},
   "source": [
    "## Step 1: Data Preprocessing"
   ]
  },
  {
   "cell_type": "code",
   "execution_count": 2,
   "metadata": {},
   "outputs": [
    {
     "data": {
      "text/html": [
       "<div>\n",
       "<style scoped>\n",
       "    .dataframe tbody tr th:only-of-type {\n",
       "        vertical-align: middle;\n",
       "    }\n",
       "\n",
       "    .dataframe tbody tr th {\n",
       "        vertical-align: top;\n",
       "    }\n",
       "\n",
       "    .dataframe thead th {\n",
       "        text-align: right;\n",
       "    }\n",
       "</style>\n",
       "<table border=\"1\" class=\"dataframe\">\n",
       "  <thead>\n",
       "    <tr style=\"text-align: right;\">\n",
       "      <th></th>\n",
       "      <th>age</th>\n",
       "      <th>job</th>\n",
       "      <th>marital</th>\n",
       "      <th>education</th>\n",
       "      <th>default</th>\n",
       "      <th>balance</th>\n",
       "      <th>housing</th>\n",
       "      <th>loan</th>\n",
       "      <th>contact</th>\n",
       "      <th>day</th>\n",
       "      <th>month</th>\n",
       "      <th>duration</th>\n",
       "      <th>campaign</th>\n",
       "      <th>pdays</th>\n",
       "      <th>previous</th>\n",
       "      <th>poutcome</th>\n",
       "      <th>y</th>\n",
       "    </tr>\n",
       "  </thead>\n",
       "  <tbody>\n",
       "    <tr>\n",
       "      <th>0</th>\n",
       "      <td>30</td>\n",
       "      <td>unemployed</td>\n",
       "      <td>married</td>\n",
       "      <td>primary</td>\n",
       "      <td>no</td>\n",
       "      <td>1787</td>\n",
       "      <td>no</td>\n",
       "      <td>no</td>\n",
       "      <td>cellular</td>\n",
       "      <td>19</td>\n",
       "      <td>oct</td>\n",
       "      <td>79</td>\n",
       "      <td>1</td>\n",
       "      <td>-1</td>\n",
       "      <td>0</td>\n",
       "      <td>unknown</td>\n",
       "      <td>no</td>\n",
       "    </tr>\n",
       "    <tr>\n",
       "      <th>1</th>\n",
       "      <td>33</td>\n",
       "      <td>services</td>\n",
       "      <td>married</td>\n",
       "      <td>secondary</td>\n",
       "      <td>no</td>\n",
       "      <td>4789</td>\n",
       "      <td>yes</td>\n",
       "      <td>yes</td>\n",
       "      <td>cellular</td>\n",
       "      <td>11</td>\n",
       "      <td>may</td>\n",
       "      <td>220</td>\n",
       "      <td>1</td>\n",
       "      <td>339</td>\n",
       "      <td>4</td>\n",
       "      <td>failure</td>\n",
       "      <td>no</td>\n",
       "    </tr>\n",
       "    <tr>\n",
       "      <th>2</th>\n",
       "      <td>35</td>\n",
       "      <td>management</td>\n",
       "      <td>single</td>\n",
       "      <td>tertiary</td>\n",
       "      <td>no</td>\n",
       "      <td>1350</td>\n",
       "      <td>yes</td>\n",
       "      <td>no</td>\n",
       "      <td>cellular</td>\n",
       "      <td>16</td>\n",
       "      <td>apr</td>\n",
       "      <td>185</td>\n",
       "      <td>1</td>\n",
       "      <td>330</td>\n",
       "      <td>1</td>\n",
       "      <td>failure</td>\n",
       "      <td>no</td>\n",
       "    </tr>\n",
       "    <tr>\n",
       "      <th>3</th>\n",
       "      <td>30</td>\n",
       "      <td>management</td>\n",
       "      <td>married</td>\n",
       "      <td>tertiary</td>\n",
       "      <td>no</td>\n",
       "      <td>1476</td>\n",
       "      <td>yes</td>\n",
       "      <td>yes</td>\n",
       "      <td>unknown</td>\n",
       "      <td>3</td>\n",
       "      <td>jun</td>\n",
       "      <td>199</td>\n",
       "      <td>4</td>\n",
       "      <td>-1</td>\n",
       "      <td>0</td>\n",
       "      <td>unknown</td>\n",
       "      <td>no</td>\n",
       "    </tr>\n",
       "    <tr>\n",
       "      <th>4</th>\n",
       "      <td>59</td>\n",
       "      <td>blue-collar</td>\n",
       "      <td>married</td>\n",
       "      <td>secondary</td>\n",
       "      <td>no</td>\n",
       "      <td>0</td>\n",
       "      <td>yes</td>\n",
       "      <td>no</td>\n",
       "      <td>unknown</td>\n",
       "      <td>5</td>\n",
       "      <td>may</td>\n",
       "      <td>226</td>\n",
       "      <td>1</td>\n",
       "      <td>-1</td>\n",
       "      <td>0</td>\n",
       "      <td>unknown</td>\n",
       "      <td>no</td>\n",
       "    </tr>\n",
       "  </tbody>\n",
       "</table>\n",
       "</div>"
      ],
      "text/plain": [
       "   age          job  marital  education default  balance housing loan  \\\n",
       "0   30   unemployed  married    primary      no     1787      no   no   \n",
       "1   33     services  married  secondary      no     4789     yes  yes   \n",
       "2   35   management   single   tertiary      no     1350     yes   no   \n",
       "3   30   management  married   tertiary      no     1476     yes  yes   \n",
       "4   59  blue-collar  married  secondary      no        0     yes   no   \n",
       "\n",
       "    contact  day month  duration  campaign  pdays  previous poutcome   y  \n",
       "0  cellular   19   oct        79         1     -1         0  unknown  no  \n",
       "1  cellular   11   may       220         1    339         4  failure  no  \n",
       "2  cellular   16   apr       185         1    330         1  failure  no  \n",
       "3   unknown    3   jun       199         4     -1         0  unknown  no  \n",
       "4   unknown    5   may       226         1     -1         0  unknown  no  "
      ]
     },
     "execution_count": 2,
     "metadata": {},
     "output_type": "execute_result"
    }
   ],
   "source": [
    "# Load data file\n",
    "bank=pd.read_csv('bank.csv',sep=\";\")\n",
    "bank.head()"
   ]
  },
  {
   "cell_type": "code",
   "execution_count": 3,
   "metadata": {},
   "outputs": [
    {
     "data": {
      "text/plain": [
       "age          0\n",
       "job          0\n",
       "marital      0\n",
       "education    0\n",
       "default      0\n",
       "balance      0\n",
       "housing      0\n",
       "loan         0\n",
       "contact      0\n",
       "day          0\n",
       "month        0\n",
       "duration     0\n",
       "campaign     0\n",
       "pdays        0\n",
       "previous     0\n",
       "poutcome     0\n",
       "y            0\n",
       "dtype: int64"
      ]
     },
     "execution_count": 3,
     "metadata": {},
     "output_type": "execute_result"
    }
   ],
   "source": [
    "# Checking for Missing Values\n",
    "bank.isna().sum()"
   ]
  },
  {
   "cell_type": "markdown",
   "metadata": {},
   "source": [
    "Converting Categorial variables to Numerical values. I am going to use a manual mapping process since the numer of categorical variables is limited"
   ]
  },
  {
   "cell_type": "code",
   "execution_count": 4,
   "metadata": {},
   "outputs": [
    {
     "name": "stdout",
     "output_type": "stream",
     "text": [
      "['unemployed' 'services' 'management' 'blue-collar' 'self-employed'\n",
      " 'technician' 'entrepreneur' 'admin.' 'student' 'housemaid' 'retired'\n",
      " 'unknown']\n"
     ]
    }
   ],
   "source": [
    "#Converting Categorial variables 'job' to Numerical values\n",
    "print(pd.unique(bank['job']))\n",
    "d = {'unemployed':0, 'services':1, 'management':2, 'blue-collar':3,'self-employed':4, 'technician':5, 'entrepreneur':6, \n",
    "     'admin.':7, 'student':8,'housemaid':9, 'retired':10, 'unknown':11}\n",
    "bank['job'] = bank['job'].map(d)"
   ]
  },
  {
   "cell_type": "code",
   "execution_count": 5,
   "metadata": {},
   "outputs": [
    {
     "name": "stdout",
     "output_type": "stream",
     "text": [
      "['primary' 'secondary' 'tertiary' 'unknown']\n"
     ]
    }
   ],
   "source": [
    "#Converting Categorial variables 'education' to Numerical values\n",
    "print(pd.unique(bank['education']))\n",
    "d = {'primary':1, 'secondary':2, 'tertiary':3, 'unknown':4}\n",
    "bank['education'] = bank['education'].map(d)"
   ]
  },
  {
   "cell_type": "code",
   "execution_count": 6,
   "metadata": {},
   "outputs": [
    {
     "name": "stdout",
     "output_type": "stream",
     "text": [
      "['no' 'yes']\n"
     ]
    }
   ],
   "source": [
    "#Converting Categorial variables 'default' to Numerical values\n",
    "print(pd.unique(bank['default']))\n",
    "d = {'no':0, 'yes':1}\n",
    "bank['default'] = bank['default'].map(d)"
   ]
  },
  {
   "cell_type": "code",
   "execution_count": 7,
   "metadata": {},
   "outputs": [
    {
     "name": "stdout",
     "output_type": "stream",
     "text": [
      "['no' 'yes']\n"
     ]
    }
   ],
   "source": [
    "#Converting Categorial variables 'housing' to Numerical values\n",
    "print(pd.unique(bank['housing']))\n",
    "d = {'no':0, 'yes':1}\n",
    "bank['housing'] = bank['housing'].map(d)"
   ]
  },
  {
   "cell_type": "code",
   "execution_count": 8,
   "metadata": {},
   "outputs": [
    {
     "name": "stdout",
     "output_type": "stream",
     "text": [
      "['no' 'yes']\n"
     ]
    }
   ],
   "source": [
    "#Converting Categorial variables 'loan' to Numerical values\n",
    "print(pd.unique(bank['loan']))\n",
    "d = {'no':0, 'yes':1}\n",
    "bank['loan'] = bank['loan'].map(d)"
   ]
  },
  {
   "cell_type": "code",
   "execution_count": 9,
   "metadata": {},
   "outputs": [
    {
     "name": "stdout",
     "output_type": "stream",
     "text": [
      "['cellular' 'unknown' 'telephone']\n"
     ]
    }
   ],
   "source": [
    "#Converting Categorial variables 'contact' to Numerical values\n",
    "print(pd.unique(bank['contact']))\n",
    "d = {'cellular': 0, 'telephone': 1, 'unknown': 2}\n",
    "bank['contact'] = bank['contact'].map(d)"
   ]
  },
  {
   "cell_type": "code",
   "execution_count": 10,
   "metadata": {},
   "outputs": [
    {
     "name": "stdout",
     "output_type": "stream",
     "text": [
      "['oct' 'may' 'apr' 'jun' 'feb' 'aug' 'jan' 'jul' 'nov' 'sep' 'mar' 'dec']\n"
     ]
    }
   ],
   "source": [
    "#Converting Categorial variables 'month' to Numerical values\n",
    "print(pd.unique(bank['month']))\n",
    "d = {'jan': 1, 'feb': 2, 'mar': 3,'apr': 4, 'may': 5, 'jun': 6,'jul': 7, 'aug': 8, 'sep': 9,'oct': 10, 'nov': 11, 'dec': 12}\n",
    "bank['month'] = bank['month'].map(d)"
   ]
  },
  {
   "cell_type": "code",
   "execution_count": 11,
   "metadata": {},
   "outputs": [
    {
     "name": "stdout",
     "output_type": "stream",
     "text": [
      "['unknown' 'failure' 'other' 'success']\n"
     ]
    }
   ],
   "source": [
    "#Converting Categorial variables 'poutcome' to Numerical values\n",
    "print(pd.unique(bank['poutcome']))\n",
    "d = {'success': 1, 'failure': 0, 'other': 2,'unknown':3}\n",
    "bank['poutcome'] = bank['poutcome'].map(d)"
   ]
  },
  {
   "cell_type": "code",
   "execution_count": 12,
   "metadata": {},
   "outputs": [
    {
     "name": "stdout",
     "output_type": "stream",
     "text": [
      "['married' 'single' 'divorced']\n"
     ]
    }
   ],
   "source": [
    "#Converting Categorial variables 'housing' to marital values\n",
    "print(pd.unique(bank['marital']))\n",
    "d = {'married': 1, 'single': 0, 'divorced': 2}\n",
    "bank['marital'] = bank['marital'].map(d)"
   ]
  },
  {
   "cell_type": "code",
   "execution_count": 13,
   "metadata": {},
   "outputs": [
    {
     "name": "stdout",
     "output_type": "stream",
     "text": [
      "['no' 'yes']\n"
     ]
    }
   ],
   "source": [
    "#Converting Categorial variables 'y' to Numerical values\n",
    "print(pd.unique(bank['y']))\n",
    "d = {'no':0, 'yes':1}\n",
    "bank['y'] = bank['y'].map(d)"
   ]
  },
  {
   "cell_type": "code",
   "execution_count": 14,
   "metadata": {},
   "outputs": [
    {
     "data": {
      "text/html": [
       "<div>\n",
       "<style scoped>\n",
       "    .dataframe tbody tr th:only-of-type {\n",
       "        vertical-align: middle;\n",
       "    }\n",
       "\n",
       "    .dataframe tbody tr th {\n",
       "        vertical-align: top;\n",
       "    }\n",
       "\n",
       "    .dataframe thead th {\n",
       "        text-align: right;\n",
       "    }\n",
       "</style>\n",
       "<table border=\"1\" class=\"dataframe\">\n",
       "  <thead>\n",
       "    <tr style=\"text-align: right;\">\n",
       "      <th></th>\n",
       "      <th>age</th>\n",
       "      <th>job</th>\n",
       "      <th>marital</th>\n",
       "      <th>education</th>\n",
       "      <th>default</th>\n",
       "      <th>balance</th>\n",
       "      <th>housing</th>\n",
       "      <th>loan</th>\n",
       "      <th>contact</th>\n",
       "      <th>day</th>\n",
       "      <th>month</th>\n",
       "      <th>duration</th>\n",
       "      <th>campaign</th>\n",
       "      <th>pdays</th>\n",
       "      <th>previous</th>\n",
       "      <th>poutcome</th>\n",
       "      <th>y</th>\n",
       "    </tr>\n",
       "  </thead>\n",
       "  <tbody>\n",
       "    <tr>\n",
       "      <th>0</th>\n",
       "      <td>30</td>\n",
       "      <td>0</td>\n",
       "      <td>1</td>\n",
       "      <td>1</td>\n",
       "      <td>0</td>\n",
       "      <td>1787</td>\n",
       "      <td>0</td>\n",
       "      <td>0</td>\n",
       "      <td>0</td>\n",
       "      <td>19</td>\n",
       "      <td>10</td>\n",
       "      <td>79</td>\n",
       "      <td>1</td>\n",
       "      <td>-1</td>\n",
       "      <td>0</td>\n",
       "      <td>3</td>\n",
       "      <td>0</td>\n",
       "    </tr>\n",
       "    <tr>\n",
       "      <th>1</th>\n",
       "      <td>33</td>\n",
       "      <td>1</td>\n",
       "      <td>1</td>\n",
       "      <td>2</td>\n",
       "      <td>0</td>\n",
       "      <td>4789</td>\n",
       "      <td>1</td>\n",
       "      <td>1</td>\n",
       "      <td>0</td>\n",
       "      <td>11</td>\n",
       "      <td>5</td>\n",
       "      <td>220</td>\n",
       "      <td>1</td>\n",
       "      <td>339</td>\n",
       "      <td>4</td>\n",
       "      <td>0</td>\n",
       "      <td>0</td>\n",
       "    </tr>\n",
       "    <tr>\n",
       "      <th>2</th>\n",
       "      <td>35</td>\n",
       "      <td>2</td>\n",
       "      <td>0</td>\n",
       "      <td>3</td>\n",
       "      <td>0</td>\n",
       "      <td>1350</td>\n",
       "      <td>1</td>\n",
       "      <td>0</td>\n",
       "      <td>0</td>\n",
       "      <td>16</td>\n",
       "      <td>4</td>\n",
       "      <td>185</td>\n",
       "      <td>1</td>\n",
       "      <td>330</td>\n",
       "      <td>1</td>\n",
       "      <td>0</td>\n",
       "      <td>0</td>\n",
       "    </tr>\n",
       "    <tr>\n",
       "      <th>3</th>\n",
       "      <td>30</td>\n",
       "      <td>2</td>\n",
       "      <td>1</td>\n",
       "      <td>3</td>\n",
       "      <td>0</td>\n",
       "      <td>1476</td>\n",
       "      <td>1</td>\n",
       "      <td>1</td>\n",
       "      <td>2</td>\n",
       "      <td>3</td>\n",
       "      <td>6</td>\n",
       "      <td>199</td>\n",
       "      <td>4</td>\n",
       "      <td>-1</td>\n",
       "      <td>0</td>\n",
       "      <td>3</td>\n",
       "      <td>0</td>\n",
       "    </tr>\n",
       "    <tr>\n",
       "      <th>4</th>\n",
       "      <td>59</td>\n",
       "      <td>3</td>\n",
       "      <td>1</td>\n",
       "      <td>2</td>\n",
       "      <td>0</td>\n",
       "      <td>0</td>\n",
       "      <td>1</td>\n",
       "      <td>0</td>\n",
       "      <td>2</td>\n",
       "      <td>5</td>\n",
       "      <td>5</td>\n",
       "      <td>226</td>\n",
       "      <td>1</td>\n",
       "      <td>-1</td>\n",
       "      <td>0</td>\n",
       "      <td>3</td>\n",
       "      <td>0</td>\n",
       "    </tr>\n",
       "  </tbody>\n",
       "</table>\n",
       "</div>"
      ],
      "text/plain": [
       "   age  job  marital  education  default  balance  housing  loan  contact  \\\n",
       "0   30    0        1          1        0     1787        0     0        0   \n",
       "1   33    1        1          2        0     4789        1     1        0   \n",
       "2   35    2        0          3        0     1350        1     0        0   \n",
       "3   30    2        1          3        0     1476        1     1        2   \n",
       "4   59    3        1          2        0        0        1     0        2   \n",
       "\n",
       "   day  month  duration  campaign  pdays  previous  poutcome  y  \n",
       "0   19     10        79         1     -1         0         3  0  \n",
       "1   11      5       220         1    339         4         0  0  \n",
       "2   16      4       185         1    330         1         0  0  \n",
       "3    3      6       199         4     -1         0         3  0  \n",
       "4    5      5       226         1     -1         0         3  0  "
      ]
     },
     "execution_count": 14,
     "metadata": {},
     "output_type": "execute_result"
    }
   ],
   "source": [
    "bank.head()"
   ]
  },
  {
   "cell_type": "code",
   "execution_count": 15,
   "metadata": {},
   "outputs": [],
   "source": [
    "features = list(bank.columns[:16])"
   ]
  },
  {
   "cell_type": "code",
   "execution_count": 16,
   "metadata": {},
   "outputs": [
    {
     "name": "stdout",
     "output_type": "stream",
     "text": [
      "Size After Outlier Removal (3908, 17)\n"
     ]
    }
   ],
   "source": [
    "#Converting dataframe to numpy array and outlier Removal\n",
    "bank.to_numpy()\n",
    "z = np.abs(stats.zscore(bank))\n",
    "bank = bank[(z < 3).all(axis=1)]\n",
    "print(\"Size After Outlier Removal\",bank.shape)"
   ]
  },
  {
   "cell_type": "code",
   "execution_count": 17,
   "metadata": {},
   "outputs": [
    {
     "name": "stdout",
     "output_type": "stream",
     "text": [
      "[0.08691781 0.06928901 0.04197859 0.04953763 0.         0.08894073\n",
      " 0.02597624 0.01519905 0.02944732 0.0934335  0.09987928 0.22721003\n",
      " 0.0597495  0.03171833 0.02921812 0.05150485]\n"
     ]
    }
   ],
   "source": [
    "#Feature Selection\n",
    "y = bank[\"y\"]\n",
    "X = bank[features]\n",
    "model = ExtraTreesClassifier()\n",
    "model.fit(X,y)\n",
    "print(model.feature_importances_) ## use inbuilt class feature_importances of tree based classifiers"
   ]
  },
  {
   "cell_type": "code",
   "execution_count": 18,
   "metadata": {},
   "outputs": [
    {
     "data": {
      "image/png": "[encoded data removed]",
      "text/plain": [
       "<Figure size 432x288 with 1 Axes>"
      ]
     },
     "metadata": {
      "needs_background": "light"
     },
     "output_type": "display_data"
    }
   ],
   "source": [
    "## plot graph of feature importances for better visualization\n",
    "feat_importances = pd.Series(model.feature_importances_, index=X.columns)\n",
    "feat_importances.nlargest(10).plot(kind='barh')\n",
    "plt.title(\"Top 10 important features in data\")\n",
    "plt.show()"
   ]
  },
  {
   "cell_type": "code",
   "execution_count": 19,
   "metadata": {},
   "outputs": [],
   "source": [
    "best_features = ['duration','day','month','age','balance', 'job','campaign', 'poutcome', 'education','marital']\n",
    "X = bank[best_features]\n",
    "y = bank[\"y\"]"
   ]
  },
  {
   "cell_type": "code",
   "execution_count": 20,
   "metadata": {},
   "outputs": [],
   "source": [
    "#Normalizing the data\n",
    "scaler = MinMaxScaler()\n",
    "x = scaler.fit_transform(X)"
   ]
  },
  {
   "cell_type": "code",
   "execution_count": 21,
   "metadata": {},
   "outputs": [],
   "source": [
    "#Splitting the data into train (75%) and test (25%)\n",
    "x_train, x_test, y_train, y_test = train_test_split(x , y,shuffle = True,test_size=0.25,random_state=1)"
   ]
  },
  {
   "cell_type": "code",
   "execution_count": 49,
   "metadata": {},
   "outputs": [
    {
     "name": "stdout",
     "output_type": "stream",
     "text": [
      "Shape of training feature: (2931, 10)\n",
      "Shape of testing feature: (977, 10)\n",
      "Shape of training label: (2931,)\n",
      "Shape of training label: (977,)\n"
     ]
    }
   ],
   "source": [
    "print('Shape of training feature:', x_train.shape)\n",
    "print('Shape of testing feature:', x_test.shape)\n",
    "print('Shape of training label:', y_train.shape)\n",
    "print('Shape of training label:', y_test.shape)"
   ]
  },
  {
   "cell_type": "markdown",
   "metadata": {},
   "source": [
    "## Step 2: Applying Techniques"
   ]
  },
  {
   "cell_type": "markdown",
   "metadata": {},
   "source": [
    "### Decision Tree"
   ]
  },
  {
   "cell_type": "markdown",
   "metadata": {},
   "source": [
    "#### Using Test/Train Split"
   ]
  },
  {
   "cell_type": "code",
   "execution_count": 41,
   "metadata": {},
   "outputs": [
    {
     "name": "stdout",
     "output_type": "stream",
     "text": [
      "Accuracy Score of decision tree classifier 87.30808597748208\n"
     ]
    }
   ],
   "source": [
    "#Decision Tree Classifier\n",
    "dt=tree.DecisionTreeClassifier(random_state = 18)\n",
    "dt.fit(x_train,y_train)\n",
    "y_pred=dt.predict(x_test)\n",
    "accuracy_test = metrics.accuracy_score(y_pred,y_test)\n",
    "print('Accuracy Score of decision tree classifier',accuracy_test*100)"
   ]
  },
  {
   "cell_type": "markdown",
   "metadata": {},
   "source": [
    "#### Using 10 Fold Cross Validation"
   ]
  },
  {
   "cell_type": "code",
   "execution_count": 38,
   "metadata": {},
   "outputs": [
    {
     "name": "stdout",
     "output_type": "stream",
     "text": [
      "Mean Accuracy Score of Decision Tree with Cross Validation: 87.82018493015936\n"
     ]
    }
   ],
   "source": [
    "#print(model_selection.cross_val_score(dt, x_test,y_test,scoring = 'accuracy', cv=10))\n",
    "dt=tree.DecisionTreeClassifier()\n",
    "mean_score = model_selection.cross_val_score(dt, x,y,scoring = 'accuracy',cv=10).mean()\n",
    "print(\"Mean Accuracy Score of Decision Tree with Cross Validation:\",mean_score*100)"
   ]
  },
  {
   "cell_type": "markdown",
   "metadata": {},
   "source": [
    "### Random Forest"
   ]
  },
  {
   "cell_type": "markdown",
   "metadata": {},
   "source": [
    "#### N Estimators-10 and 10 Fold Cross Validation"
   ]
  },
  {
   "cell_type": "code",
   "execution_count": 24,
   "metadata": {},
   "outputs": [
    {
     "name": "stdout",
     "output_type": "stream",
     "text": [
      "Random Forest Accuracy with CV- \n",
      " 90.09705554462587\n"
     ]
    }
   ],
   "source": [
    "#print(model_selection.cross_val_score(rf, x_test,y_test,scoring = 'accuracy', cv=10))\n",
    "rf = RandomForestClassifier(n_estimators=10,random_state=3)\n",
    "mean_score= model_selection.cross_val_score(rf, x,y,scoring = 'accuracy',cv=10).mean()\n",
    "print(\"Random Forest Accuracy with CV- \\n\",mean_score*100)"
   ]
  },
  {
   "cell_type": "markdown",
   "metadata": {},
   "source": [
    "#### Inference: \n",
    "Random forest had mean accuarcy score of 90.09% perfomed better than Decision Tree (with test/train split having accuracy score 87.3% and 10-fold cross validation having accuracy score 87.82%)"
   ]
  },
  {
   "cell_type": "markdown",
   "metadata": {},
   "source": [
    "### KNN"
   ]
  },
  {
   "cell_type": "markdown",
   "metadata": {},
   "source": [
    "#### N Neighbours-10 and 10 Fold Cross Validation"
   ]
  },
  {
   "cell_type": "code",
   "execution_count": 44,
   "metadata": {},
   "outputs": [
    {
     "name": "stdout",
     "output_type": "stream",
     "text": [
      "Accuracy Score with CV: 90.32756246311233\n"
     ]
    }
   ],
   "source": [
    "knn = KNeighborsClassifier(n_neighbors=10)\n",
    "print(\"Accuracy Score with CV:\",model_selection.cross_val_score(knn, x, y, cv=10).mean()*100)"
   ]
  },
  {
   "cell_type": "markdown",
   "metadata": {},
   "source": [
    "#### N Estimators from 1 to 50 "
   ]
  },
  {
   "cell_type": "code",
   "execution_count": 46,
   "metadata": {},
   "outputs": [
    {
     "name": "stdout",
     "output_type": "stream",
     "text": [
      "Accuracy Score for k=1| 88.53633572159673\n",
      "Accuracy Score for k=2| 90.37871033776868\n",
      "Accuracy Score for k=3| 90.68577277379734\n",
      "Accuracy Score for k=4| 91.19754350051177\n",
      "Accuracy Score for k=5| 91.29989764585466\n",
      "Accuracy Score for k=6| 91.09518935516888\n",
      "Accuracy Score for k=7| 90.992835209826\n",
      "Accuracy Score for k=8| 91.09518935516888\n",
      "Accuracy Score for k=9| 91.09518935516888\n",
      "Accuracy Score for k=10| 90.89048106448311\n",
      "Accuracy Score for k=11| 90.89048106448311\n",
      "Accuracy Score for k=12| 90.58341862845445\n",
      "Accuracy Score for k=13| 91.09518935516888\n",
      "Accuracy Score for k=14| 90.58341862845445\n",
      "Accuracy Score for k=15| 90.89048106448311\n",
      "Accuracy Score for k=16| 90.58341862845445\n",
      "Accuracy Score for k=17| 90.58341862845445\n",
      "Accuracy Score for k=18| 90.48106448311157\n",
      "Accuracy Score for k=19| 90.58341862845445\n",
      "Accuracy Score for k=20| 90.58341862845445\n",
      "Accuracy Score for k=21| 90.48106448311157\n",
      "Accuracy Score for k=22| 90.37871033776868\n",
      "Accuracy Score for k=23| 90.37871033776868\n",
      "Accuracy Score for k=24| 90.2763561924258\n",
      "Accuracy Score for k=25| 90.2763561924258\n",
      "Accuracy Score for k=26| 90.37871033776868\n",
      "Accuracy Score for k=27| 90.2763561924258\n",
      "Accuracy Score for k=28| 90.2763561924258\n",
      "Accuracy Score for k=29| 90.17400204708291\n",
      "Accuracy Score for k=30| 90.07164790174002\n",
      "Accuracy Score for k=31| 90.07164790174002\n",
      "Accuracy Score for k=32| 90.07164790174002\n",
      "Accuracy Score for k=33| 90.07164790174002\n",
      "Accuracy Score for k=34| 90.17400204708291\n",
      "Accuracy Score for k=35| 90.17400204708291\n",
      "Accuracy Score for k=36| 90.17400204708291\n",
      "Accuracy Score for k=37| 90.17400204708291\n",
      "Accuracy Score for k=38| 90.17400204708291\n",
      "Accuracy Score for k=39| 90.17400204708291\n",
      "Accuracy Score for k=40| 90.17400204708291\n",
      "Accuracy Score for k=41| 90.17400204708291\n",
      "Accuracy Score for k=42| 90.17400204708291\n",
      "Accuracy Score for k=43| 90.17400204708291\n",
      "Accuracy Score for k=44| 90.17400204708291\n",
      "Accuracy Score for k=45| 90.17400204708291\n",
      "Accuracy Score for k=46| 90.17400204708291\n",
      "Accuracy Score for k=47| 90.17400204708291\n",
      "Accuracy Score for k=48| 90.17400204708291\n",
      "Accuracy Score for k=49| 90.17400204708291\n",
      "Accuracy Score for k=50| 90.17400204708291\n"
     ]
    }
   ],
   "source": [
    "# Looping from k=1 to 50 (without 10 Fold CV)\n",
    "for k in range(1, 51):\n",
    "    knn = KNeighborsClassifier(n_neighbors=k)\n",
    "    knn.fit(x_train, y_train)\n",
    "    pred=knn.predict(x_test)\n",
    "    knn.score(x_test, y_test)\n",
    "    print(\"Accuracy Score for k=\"+str(k)+\"|\",accuracy_score(y_test, pred)*100)"
   ]
  },
  {
   "cell_type": "code",
   "execution_count": 45,
   "metadata": {},
   "outputs": [
    {
     "name": "stdout",
     "output_type": "stream",
     "text": [
      "Accuracy Score for k=1| 88.22899862286052\n",
      "Accuracy Score for k=2| 90.12256541412552\n",
      "Accuracy Score for k=3| 89.89199291756836\n",
      "Accuracy Score for k=4| 90.25057380811857\n",
      "Accuracy Score for k=5| 90.55734802282117\n",
      "Accuracy Score for k=6| 90.40415764968195\n",
      "Accuracy Score for k=7| 90.48094957046364\n",
      "Accuracy Score for k=8| 90.48088399239293\n",
      "Accuracy Score for k=9| 90.37851662404093\n",
      "Accuracy Score for k=10| 90.32756246311233\n",
      "Accuracy Score for k=11| 90.40448554003542\n",
      "Accuracy Score for k=12| 90.35313791068266\n",
      "Accuracy Score for k=13| 90.40428880582333\n",
      "Accuracy Score for k=14| 90.25070496425997\n",
      "Accuracy Score for k=15| 90.37871335825301\n",
      "Accuracy Score for k=16| 90.22512951668963\n",
      "Accuracy Score for k=17| 90.40415764968195\n",
      "Accuracy Score for k=18| 90.27628041183029\n",
      "Accuracy Score for k=19| 90.3530067545413\n",
      "Accuracy Score for k=20| 90.14840317397862\n",
      "Accuracy Score for k=21| 90.17397862154895\n",
      "Accuracy Score for k=22| 90.04610138369729\n",
      "Accuracy Score for k=23| 90.04610138369729\n",
      "Accuracy Score for k=24| 90.07167683126764\n",
      "Accuracy Score for k=25| 90.09725227883797\n",
      "Accuracy Score for k=26| 90.0460358056266\n",
      "Accuracy Score for k=27| 90.0460358056266\n",
      "Accuracy Score for k=28| 89.96930946291559\n",
      "Accuracy Score for k=29| 90.02039477998558\n",
      "Accuracy Score for k=30| 90.04610138369729\n",
      "Accuracy Score for k=31| 90.02052593612696\n",
      "Accuracy Score for k=32| 89.94379959341596\n",
      "Accuracy Score for k=33| 90.02052593612696\n",
      "Accuracy Score for k=34| 89.9693750409863\n",
      "Accuracy Score for k=35| 89.94379959341596\n",
      "Accuracy Score for k=36| 89.99495048855663\n",
      "Accuracy Score for k=37| 89.99495048855663\n",
      "Accuracy Score for k=38| 89.99495048855663\n",
      "Accuracy Score for k=39| 89.96930946291559\n",
      "Accuracy Score for k=40| 89.91822414584563\n",
      "Accuracy Score for k=41| 89.91815856777494\n",
      "Accuracy Score for k=42| 89.8925831202046\n",
      "Accuracy Score for k=43| 89.89251754213392\n",
      "Accuracy Score for k=44| 89.91815856777494\n",
      "Accuracy Score for k=45| 89.8926486982753\n",
      "Accuracy Score for k=46| 89.94373401534529\n",
      "Accuracy Score for k=47| 89.91815856777494\n",
      "Accuracy Score for k=48| 89.94373401534529\n",
      "Accuracy Score for k=49| 89.91815856777494\n",
      "Accuracy Score for k=50| 89.91815856777494\n"
     ]
    }
   ],
   "source": [
    "## Looping from k=1 to 50 (With 10 Fold CV)\n",
    "for k in range(1, 51):\n",
    "    knn = KNeighborsClassifier(n_neighbors=k)\n",
    "    mean_score= model_selection.cross_val_score(knn, x,y,scoring = 'accuracy',cv=10).mean()*100\n",
    "    print(\"Accuracy Score for k=\"+str(k)+\"|\",mean_score)"
   ]
  },
  {
   "cell_type": "markdown",
   "metadata": {},
   "source": [
    "#### Inference:\n",
    "There is slight difference as we increase the value of K.<br>\n",
    " For K=10 and 10-folds cross validation we got accuracy score of 90.3%. <br>\n",
    " For looping between 1 and 50: <br>\n",
    " i)With 10 Fold cross validation, we are getting the the best performance of 90.55% for K=5  <br>\n",
    " ii)Without Cross Validation, we are getting best performance of 91.2% for K=5  <br>\n",
    " "
   ]
  },
  {
   "cell_type": "markdown",
   "metadata": {},
   "source": [
    "## Naive Bayes"
   ]
  },
  {
   "cell_type": "markdown",
   "metadata": {},
   "source": [
    "### Gaussian Naive Bayes"
   ]
  },
  {
   "cell_type": "code",
   "execution_count": 47,
   "metadata": {},
   "outputs": [
    {
     "name": "stdout",
     "output_type": "stream",
     "text": [
      "87.79336349924586\n"
     ]
    }
   ],
   "source": [
    "# Building Naive Bayes model - Gaussian\n",
    "gnb = GaussianNB()\n",
    "mean_score = model_selection.cross_val_score(gnb, x,y,scoring = 'accuracy',cv=10).mean()*100\n",
    "print(mean_score)"
   ]
  },
  {
   "cell_type": "markdown",
   "metadata": {},
   "source": [
    "### Multinomial Naive Bayes"
   ]
  },
  {
   "cell_type": "code",
   "execution_count": 29,
   "metadata": {},
   "outputs": [
    {
     "name": "stdout",
     "output_type": "stream",
     "text": [
      "89.94373401534529\n"
     ]
    }
   ],
   "source": [
    "mnb = MultinomialNB()\n",
    "mean_score = model_selection.cross_val_score(mnb,x,y,scoring = 'accuracy',cv=10).mean()*100\n",
    "print(mean_score)"
   ]
  },
  {
   "cell_type": "markdown",
   "metadata": {},
   "source": [
    "#### Inference:\n",
    "Multinomal Naive Bayes had mean accuracy score of 89.94% performed better than Gaussian Naive Bayes having accuracy of 87.79%."
   ]
  },
  {
   "cell_type": "markdown",
   "metadata": {},
   "source": [
    "### Conclusion:\n",
    "KNN , we got best performance for K=5 with accuracy score 91.2% without cross validation, followed by K = 5 with accuracy score 90.55% with 10-folds cross validation and base case k =10 and 10-folds cross validation we got mean accuracy score of 90.3%\n",
    "Random Forest had mean accuracy score of 90.09% with 10-folds cross validation.\n",
    "NB Multinomial had mean accuarct score of 89.9% with 10-folds cross validation.NB Gaussian had mean accuarct score of 87.7% with 10-folds cross validation.\n",
    "Decision Tree we got accuracy score of 87.3% for train/split and mean accuracy of 87.8% for 10-folds cross validation.\n",
    "\n",
    "Therefore, KNN and Random Forest performed best ammong all with mean accuracy score greater than 90%."
   ]
  },
  {
   "cell_type": "code",
   "execution_count": null,
   "metadata": {},
   "outputs": [],
   "source": []
  }
 ],
 "metadata": {
  "kernelspec": {
   "display_name": "Python 3",
   "language": "python",
   "name": "python3"
  },
  "language_info": {
   "codemirror_mode": {
    "name": "ipython",
    "version": 3
   },
   "file_extension": ".py",
   "mimetype": "text/x-python",
   "name": "python",
   "nbconvert_exporter": "python",
   "pygments_lexer": "ipython3",
   "version": "3.7.6"
  }
 },
 "nbformat": 4,
 "nbformat_minor": 5
}
